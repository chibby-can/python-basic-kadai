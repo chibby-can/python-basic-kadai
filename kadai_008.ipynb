{
  "nbformat": 4,
  "nbformat_minor": 0,
  "metadata": {
    "colab": {
      "provenance": [],
      "authorship_tag": "ABX9TyPhGEqDZMD40NnNqyjUM8Gh",
      "include_colab_link": true
    },
    "kernelspec": {
      "name": "python3",
      "display_name": "Python 3"
    },
    "language_info": {
      "name": "python"
    }
  },
  "cells": [
    {
      "cell_type": "markdown",
      "metadata": {
        "id": "view-in-github",
        "colab_type": "text"
      },
      "source": [
        "<a href=\"https://colab.research.google.com/github/chibby-can/python-basic-kadai/blob/main/kadai_008.ipynb\" target=\"_parent\"><img src=\"https://colab.research.google.com/assets/colab-badge.svg\" alt=\"Open In Colab\"/></a>"
      ]
    },
    {
      "cell_type": "code",
      "execution_count": 22,
      "metadata": {
        "id": "iUvfcWJ5qzdA",
        "colab": {
          "base_uri": "https://localhost:8080/"
        },
        "outputId": "54e099da-a1b5-4927-d32a-8598ba9f1094"
      },
      "outputs": [
        {
          "output_type": "stream",
          "name": "stdout",
          "text": [
            "FizzBuzz\n"
          ]
        }
      ],
      "source": [
        "var = 30\n",
        "var = int(var)\n",
        "\n",
        "if var % 15 == 0:\n",
        "  print('FizzBuzz')\n",
        "elif var % 5 == 0:\n",
        "  print('Buzz')\n",
        "elif  var % 3 == 0:\n",
        "  print('Fizz')\n",
        "else:\n",
        "  print(var)"
      ]
    }
  ]
}